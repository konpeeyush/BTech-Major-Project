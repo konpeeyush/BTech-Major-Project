{
 "cells": [
  {
   "cell_type": "code",
   "execution_count": 10,
   "metadata": {},
   "outputs": [],
   "source": [
    "import numpy as np\n",
    "import pandas as pd\n",
    "from sklearn.feature_extraction.text import TfidfVectorizer\n",
    "from sklearn.metrics.pairwise import cosine_similarity\n",
    "from streamlit_gsheets import GSheetsConnection\n",
    "import streamlit as st\n"
   ]
  },
  {
   "cell_type": "code",
   "execution_count": 21,
   "metadata": {},
   "outputs": [
    {
     "name": "stderr",
     "output_type": "stream",
     "text": [
      "2024-04-25 18:42:03.281 No runtime found, using MemoryCacheStorageManager\n"
     ]
    },
    {
     "name": "stdout",
     "output_type": "stream",
     "text": [
      "201550022.0 - Vihaan Kumar\n",
      "201550013.0 - Nakul Patel\n",
      "201550052.0 - Aaliyah Gupta\n",
      "201550040.0 - Veer Singh\n",
      "201550019.0 - Samaira Jain\n"
     ]
    }
   ],
   "source": [
    "conn = st.connection(\"gsheets\", type=GSheetsConnection)\n",
    "\n",
    "# Fetching existing data\n",
    "dataset = conn.read(worksheet=\"Students\", usecols=list(range(10)), ttl=5)\n",
    "dataset = dataset.dropna(how=\"all\")\n",
    "\n",
    "# Combine text features\n",
    "text_features = dataset['Languages Known'] + ' ' + dataset['Soft Skills'] + ' ' + dataset['Hard Skills'] + ' ' + dataset['Co-Curricular']\n",
    "\n",
    "# Vectorize text features\n",
    "vectorizer = TfidfVectorizer(min_df=1, stop_words='english', lowercase=True)\n",
    "text_feature_vectors = vectorizer.fit_transform(text_features)\n",
    "\n",
    "def find(language, soft_skills, hard_skills, ex_curricular, min_cpi, min_gdpi, num_students, technical, aptitude):\n",
    "    # Combine input features\n",
    "    candidate_text = f\"{language} {soft_skills} {hard_skills} {ex_curricular}\"\n",
    "    candidate_text_vector = vectorizer.transform([candidate_text]).toarray()\n",
    "\n",
    "    # Compute cosine similarity for text features\n",
    "    similarity_scores = cosine_similarity(candidate_text_vector, text_feature_vectors)\n",
    "\n",
    "    # Get indices of candidates meeting CPI and GDPI criteria\n",
    "    valid_indices = np.where((dataset['CPI'] >= min_cpi) & (dataset['GDPI'] >= min_gdpi) & (dataset['Technical'] >= technical) & (dataset['Aptitude'] >= aptitude))[0]\n",
    "\n",
    "    \n",
    "    # Get top similar candidates among those meeting criteria\n",
    "    valid_similarity_scores = similarity_scores[:, valid_indices]\n",
    "    top_indices = valid_indices[np.argsort(valid_similarity_scores[0])[-num_students:][::-1]]\n",
    "\n",
    "    # Get names of top similar candidates\n",
    "    # similar_students = dataset.iloc[top_indices]['Student Name'].tolist()\n",
    "\n",
    "    similar_students = dataset.iloc[top_indices][['Student ID', 'Student Name']].values.tolist()\n",
    "\n",
    "    \n",
    "    return similar_students\n",
    "\n",
    "# Test the function\n",
    "similar_students = find(\"JAVA, C++\", \" Leadership Skills\", \"Web Development\", \"Leetcode, Codeforces\", 9.0, 12.5, 5, 15, 16)\n",
    "for student in similar_students:\n",
    "    student_id, student_name = student\n",
    "    print(f\"{student_id} - {student_name}\")\n",
    "\n",
    "\n"
   ]
  }
 ],
 "metadata": {
  "kernelspec": {
   "display_name": "py3.9",
   "language": "python",
   "name": "python3"
  },
  "language_info": {
   "codemirror_mode": {
    "name": "ipython",
    "version": 3
   },
   "file_extension": ".py",
   "mimetype": "text/x-python",
   "name": "python",
   "nbconvert_exporter": "python",
   "pygments_lexer": "ipython3",
   "version": "3.9.0"
  }
 },
 "nbformat": 4,
 "nbformat_minor": 2
}
